{
 "cells": [
  {
   "cell_type": "code",
   "execution_count": 0,
   "metadata": {
    "application/vnd.databricks.v1+cell": {
     "cellMetadata": {
      "byteLimit": 2048000,
      "rowLimit": 10000
     },
     "inputWidgets": {},
     "nuid": "e7a7640f-5f8e-46b7-8ce6-abb7304fbf10",
     "showTitle": true,
     "tableResultSettingsMap": {},
     "title": "raw layer"
    }
   },
   "outputs": [],
   "source": [
    "configs = {\n",
    "    \"fs.azure.account.auth.type\": \"SAS\",\n",
    "    \"fs.azure.sas.token.provider.type\": \"org.apache.hadoop.fs.azurebfs.sas.FixedSASTokenProvider\",\n",
    "    \"fs.azure.sas.fixed.token\": \"sp=racwdlmeop&st=2025-05-11T06:16:31Z&se=2025-05-11T14:16:31Z&spr=https&sv=2024-11-04&sr=c&sig=MNHm9pDjiNxKKgYPylo17wlyoO0Z0htTLzY6fmKIdsI%3D\"\n",
    "}\n",
    "\n",
    "# Mount the ADLS container to Databricks file system (DBFS)\n",
    "dbutils.fs.mount(\n",
    "    source=\"abfss://bronze-layer@stearthquakeanalysis.dfs.core.windows.net/\",\n",
    "    mount_point=\"/mnt/bronze-layer\",\n",
    "    extra_configs=configs\n",
    ")"
   ]
  },
  {
   "cell_type": "code",
   "execution_count": 0,
   "metadata": {
    "application/vnd.databricks.v1+cell": {
     "cellMetadata": {
      "byteLimit": 2048000,
      "rowLimit": 10000
     },
     "inputWidgets": {},
     "nuid": "bb2983e0-d889-45c3-8562-90d1a3188708",
     "showTitle": false,
     "tableResultSettingsMap": {},
     "title": ""
    }
   },
   "outputs": [],
   "source": [
    "configs = {\n",
    "    \"fs.azure.account.auth.type\": \"SAS\",\n",
    "    \"fs.azure.sas.token.provider.type\": \"org.apache.hadoop.fs.azurebfs.sas.FixedSASTokenProvider\",\n",
    "    \"fs.azure.sas.fixed.token\": \"sp=racwdlmeop&st=2025-05-11T09:49:33Z&se=2025-05-11T17:49:33Z&sv=2024-11-04&sr=c&sig=HoVur3dgEnO15Ugs2zkO9DINS1GRWKc79hoFiUbxn7A%3D\"\n",
    "}\n",
    "\n",
    "# Mount the ADLS container to Databricks file system (DBFS)\n",
    "dbutils.fs.mount(\n",
    "    source=\"abfss://silver-layer@stearthquakeanalysis.dfs.core.windows.net/\",\n",
    "    mount_point=\"/mnt/silver-layer\",\n",
    "    extra_configs=configs\n",
    ")"
   ]
  }
 ],
 "metadata": {
  "application/vnd.databricks.v1+notebook": {
   "computePreferences": null,
   "dashboards": [],
   "environmentMetadata": {
    "base_environment": "",
    "environment_version": "2"
   },
   "inputWidgetPreferences": null,
   "language": "python",
   "notebookMetadata": {
    "pythonIndentUnit": 4
   },
   "notebookName": "Mount Point Creation.py",
   "widgets": {}
  },
  "language_info": {
   "name": "python"
  }
 },
 "nbformat": 4,
 "nbformat_minor": 0
}
